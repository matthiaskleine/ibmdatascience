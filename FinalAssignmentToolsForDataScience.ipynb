{
 "cells": [
  {
   "cell_type": "markdown",
   "id": "c4bfca42",
   "metadata": {},
   "source": [
    "# My Jupyter Notebook on IBM Watson Studio"
   ]
  },
  {
   "cell_type": "markdown",
   "id": "11b5f60f",
   "metadata": {},
   "source": [
    "**Matthias Kleine**  \n",
    "Software architect"
   ]
  },
  {
   "cell_type": "markdown",
   "id": "1429a471",
   "metadata": {},
   "source": [
    "*I am interested in data science because I would like to add the knowledge and capabilities of a data scientist to my portfolio. I consider data science to be an important part of future IT strategies and architectures, enabling human societies to understand scientific or economic problems in new and enlightening ways.* "
   ]
  },
  {
   "cell_type": "markdown",
   "id": "b002fcb2",
   "metadata": {},
   "source": [
    "### The following code prints out the beginning of the Fibonacci Sequence"
   ]
  },
  {
   "cell_type": "code",
   "execution_count": 5,
   "id": "49ce1485",
   "metadata": {},
   "outputs": [
    {
     "name": "stdout",
     "output_type": "stream",
     "text": [
      "[0, 1, 1, 2, 3, 5, 8, 13, 21, 34, 55, 89, 144, 233, 377]\n"
     ]
    }
   ],
   "source": [
    "def fibonacci_of(n):\n",
    "    if n in {0, 1}:  # Base case\n",
    "        return n\n",
    "    return fibonacci_of(n - 1) + fibonacci_of(n - 2)  # Recursive case\n",
    "\n",
    "print([fibonacci_of(n) for n in range(15)])"
   ]
  },
  {
   "cell_type": "markdown",
   "id": "3fa4e5c5",
   "metadata": {},
   "source": [
    "### Content of cell 6\n",
    "#### Horizontal rule\n",
    "---\n",
    "\n",
    "#### Bulleted list\n",
    "* Data science is cool.\n",
    "* I like summer.\n",
    "* Let's go Brandon!\n",
    "\n",
    "#### Hyperlink\n",
    "[Coursera is a nice platform.](https://www.coursera.org)\n",
    "\n",
    "#### Some Python code\n",
    "```python\n",
    "s = \"Python syntax highlighting\"\n",
    "print s\n",
    "```"
   ]
  }
 ],
 "metadata": {
  "kernelspec": {
   "display_name": "Python 3",
   "language": "python",
   "name": "python3"
  },
  "language_info": {
   "codemirror_mode": {
    "name": "ipython",
    "version": 3
   },
   "file_extension": ".py",
   "mimetype": "text/x-python",
   "name": "python",
   "nbconvert_exporter": "python",
   "pygments_lexer": "ipython3",
   "version": "3.8.5"
  }
 },
 "nbformat": 4,
 "nbformat_minor": 5
}
